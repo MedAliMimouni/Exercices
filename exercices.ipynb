{
 "cells": [
  {
   "cell_type": "markdown",
   "metadata": {},
   "source": [
    "# Exercices"
   ]
  },
  {
   "cell_type": "markdown",
   "metadata": {},
   "source": [
    "#### Exercice numéro 1"
   ]
  },
  {
   "cell_type": "markdown",
   "metadata": {},
   "source": [
    "Écrire un programme qui, à partir de la saisie d'un rayon et d'une hauteur, calcule le volume d'un cône droit.\n",
    "\n",
    "$$Volume = \\frac{π*R²*h}{3}$$"
   ]
  },
  {
   "cell_type": "code",
   "execution_count": null,
   "metadata": {},
   "outputs": [],
   "source": [
    " "
   ]
  },
  {
   "cell_type": "markdown",
   "metadata": {},
   "source": [
    "#### Exercice numéro 2"
   ]
  },
  {
   "cell_type": "markdown",
   "metadata": {},
   "source": [
    "Equation second degrée \n",
    "$$ f(x) = ax²+bx+c $$\n",
    "L'utilisateur donne a,b et c\n",
    "le programme doit afficher les solution\n",
    "$$ Δ = b² - 4ac $$ \n",
    "\n",
    "Si Δ < 0 , rien de plus simple : il n'y a pas de solution.\n",
    "\n",
    "Si Δ = 0, il y a une seule solution à l'équation : c'est $$ x= \\frac{-b}{2a} $$\n",
    "\n",
    "Si Δ > 0 il y a deux solutions qui sont $$ x1 = \\frac{-b-√Δ}{2a} $$ et $$ x2 = \\frac{-b+√Δ}{2a} $$"
   ]
  },
  {
   "cell_type": "code",
   "execution_count": null,
   "metadata": {},
   "outputs": [],
   "source": []
  },
  {
   "cell_type": "markdown",
   "metadata": {},
   "source": [
    "#### Exercice numéro 4"
   ]
  },
  {
   "cell_type": "markdown",
   "metadata": {},
   "source": [
    "Écrire un script Python pour ajouter une clé à un dictionnaire"
   ]
  },
  {
   "cell_type": "code",
   "execution_count": null,
   "metadata": {},
   "outputs": [],
   "source": [
    " "
   ]
  },
  {
   "cell_type": "markdown",
   "metadata": {},
   "source": [
    "#### Exercice numéro 5"
   ]
  },
  {
   "cell_type": "markdown",
   "metadata": {},
   "source": [
    "Écrire un script Python pour concaténer les dictionnaires suivants pour en créer un nouveau<br>"
   ]
  },
  {
   "cell_type": "code",
   "execution_count": 1,
   "metadata": {},
   "outputs": [],
   "source": [
    "dic1={1:10, 2:20}\n",
    "dic2={3:30, 4:40}\n",
    "dic3={5:50,6:60}\n"
   ]
  },
  {
   "cell_type": "markdown",
   "metadata": {},
   "source": [
    "#### Exercice numéro 6"
   ]
  },
  {
   "cell_type": "markdown",
   "metadata": {},
   "source": [
    "Afficher la capitale de l'Allemagne<br>"
   ]
  },
  {
   "cell_type": "code",
   "execution_count": 2,
   "metadata": {},
   "outputs": [],
   "source": [
    "countries = ['spain', 'france', 'germany', 'norway']\n",
    "capitals = ['madrid', 'paris', 'berlin', 'oslo']\n"
   ]
  },
  {
   "cell_type": "markdown",
   "metadata": {},
   "source": [
    "#### Exercice numéro 7"
   ]
  },
  {
   "cell_type": "markdown",
   "metadata": {},
   "source": [
    "creer un dectionnaire avec ses données et Afficher la capitale de l'Allemagne"
   ]
  },
  {
   "cell_type": "code",
   "execution_count": 3,
   "metadata": {},
   "outputs": [],
   "source": [
    "countries = ['spain', 'france', 'germany', 'norway']\n",
    "capitals = ['madrid', 'paris', 'berlin', 'oslo']"
   ]
  },
  {
   "cell_type": "markdown",
   "metadata": {},
   "source": [
    "#### Exercice numéro 8"
   ]
  },
  {
   "cell_type": "markdown",
   "metadata": {},
   "source": [
    "1) Afficher la capitale de l'Allemagne<br>\n",
    "2) Écrire un script Python pour ajouter une clé à un dictionnaire<br>\n"
   ]
  },
  {
   "cell_type": "code",
   "execution_count": 4,
   "metadata": {},
   "outputs": [],
   "source": [
    "europe = { 'spain': { 'capital':'madrid', 'population':46.77 },\n",
    "           'france': { 'capital':'paris', 'population':66.03 },\n",
    "           'germany': { 'capital':'berlin', 'population':80.62 },\n",
    "           'norway': { 'capital':'oslo', 'population':5.084 } }"
   ]
  },
  {
   "cell_type": "markdown",
   "metadata": {},
   "source": [
    "#### Exercice numéro 9"
   ]
  },
  {
   "cell_type": "markdown",
   "metadata": {},
   "source": [
    "Une boucle while : entrez un prix HT (entrez o pour terminer) et affichez sa valeur TTC.\n",
    "<br>\n",
    " valeur TTC = prix HT * 1.196"
   ]
  },
  {
   "cell_type": "code",
   "execution_count": null,
   "metadata": {},
   "outputs": [],
   "source": []
  },
  {
   "cell_type": "markdown",
   "metadata": {},
   "source": [
    "#### Exercice numéro 10"
   ]
  },
  {
   "cell_type": "markdown",
   "metadata": {},
   "source": [
    "Écrire un script Python pour générer et imprimer un dictionnaire contenant un nombre (entre 1 et n) sous la forme (x, x * x)"
   ]
  },
  {
   "cell_type": "code",
   "execution_count": null,
   "metadata": {},
   "outputs": [],
   "source": []
  },
  {
   "cell_type": "markdown",
   "metadata": {},
   "source": [
    "#### Exercice numéro 11"
   ]
  },
  {
   "cell_type": "markdown",
   "metadata": {},
   "source": [
    "ecrire un script python qui compte le nombre des ballons d'or pour chaque joueur dans un dictionaire"
   ]
  },
  {
   "cell_type": "code",
   "execution_count": 5,
   "metadata": {},
   "outputs": [],
   "source": [
    "liste_des_joueurs = ['Luís Figo','Michael Owen','Ronaldo','Pavel Nedvěd','Andriy Chevtchenko',\n",
    "                     'Rona  bldinho','Fabio Cannavaro','Kaká','Cristiano Ronaldo','Lionel Messi','Lionel Messi',\n",
    "                     'Lionel Messi','Lionel Messi','Cristiano Ronaldo','Cristiano Ronaldo','Lionel Messi',\n",
    "                     'Cristiano Ronaldo','Cristiano Ronaldo','Luka Modrić','Lionel Messi']"
   ]
  },
  {
   "cell_type": "markdown",
   "metadata": {},
   "source": [
    "#### Exercice numéro 12"
   ]
  },
  {
   "cell_type": "markdown",
   "metadata": {},
   "source": [
    "ecrire un script python qui enregistre le nombre des ballons d'or pour chaque joueur avec ces années\n"
   ]
  },
  {
   "cell_type": "code",
   "execution_count": 6,
   "metadata": {},
   "outputs": [],
   "source": [
    "liste_des_joueurs = ['Luís Figo','Michael Owen','Ronaldo','Pavel Nedvěd','Andriy Chevtchenko',\n",
    "                     'Ronaldinho','Fabio Cannavaro','Kaká','Cristiano Ronaldo','Lionel Messi','Lionel Messi',\n",
    "                     'Lionel Messi','Lionel Messi','Cristiano Ronaldo','Cristiano Ronaldo','Lionel Messi',\n",
    "                     'Cristiano Ronaldo','Cristiano Ronaldo','Luka Modrić','Lionel Messi']\n",
    "année = [2000, 2001, 2002, 2003, 2004, 2005, 2006, 2007, 2008, 2009, 2010, 2011, 2012, 2013, 2014, 2015, 2016, 2017, 2018, 2019]\n"
   ]
  }
 ],
 "metadata": {
  "kernelspec": {
   "display_name": "Python 3",
   "language": "python",
   "name": "python3"
  },
  "language_info": {
   "codemirror_mode": {
    "name": "ipython",
    "version": 3
   },
   "file_extension": ".py",
   "mimetype": "text/x-python",
   "name": "python",
   "nbconvert_exporter": "python",
   "pygments_lexer": "ipython3",
   "version": "3.7.4"
  }
 },
 "nbformat": 4,
 "nbformat_minor": 2
}
